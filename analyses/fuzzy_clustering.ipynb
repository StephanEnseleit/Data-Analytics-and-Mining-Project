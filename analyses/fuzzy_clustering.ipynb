{
 "cells": [
  {
   "cell_type": "markdown",
   "metadata": {},
   "source": [
    "# Fuzzy Clustering with Anomalous Patterns"
   ]
  },
  {
   "cell_type": "markdown",
   "metadata": {},
   "source": [
    "> a) Study the fuzzy c-means (FCM) program in the software package of your choice1.\n",
    "Apply the program to your dataset at the same hyperparameter c with random seeds. Do this for several different values c= c_min, ..., c_max. Plot the FCM clustering criterion (FCM cost function) in function of c. Analyse the graphic and comment if any number of clusters better fits your data than the others.\n",
    "Hint: If, at a given c, the fuzzy c-means converges to the same result at any initialization, then it is likely that parameter c is correct."
   ]
  },
  {
   "cell_type": "markdown",
   "metadata": {},
   "source": [
    "As we are working with Python we chose to study and work with `skfuzzy 0.2` which offers the FCM algorithm as `skfuzzy.cmeans(data, c, m, error, maxiter, init=None, seed=None)` implemented according to Ross et al. [1]\n",
    "\n",
    "[1] Ross, Timothy J. Fuzzy Logic With Engineering Applications, 3rd ed.\n",
    "           Wiley. 2010. ISBN 978-0-470-74376-8 pp 352-353, eq 10.28 - 10.35."
   ]
  },
  {
   "cell_type": "code",
   "execution_count": 1,
   "metadata": {},
   "outputs": [
    {
     "data": {
      "text/html": [
       "<div>\n",
       "<style scoped>\n",
       "    .dataframe tbody tr th:only-of-type {\n",
       "        vertical-align: middle;\n",
       "    }\n",
       "\n",
       "    .dataframe tbody tr th {\n",
       "        vertical-align: top;\n",
       "    }\n",
       "\n",
       "    .dataframe thead th {\n",
       "        text-align: right;\n",
       "    }\n",
       "</style>\n",
       "<table border=\"1\" class=\"dataframe\">\n",
       "  <thead>\n",
       "    <tr style=\"text-align: right;\">\n",
       "      <th></th>\n",
       "      <th>population</th>\n",
       "      <th>householdsize</th>\n",
       "      <th>agePct12t29</th>\n",
       "      <th>agePct65up</th>\n",
       "      <th>medFamInc</th>\n",
       "      <th>PctPopUnderPov</th>\n",
       "      <th>MedRentPctHousInc</th>\n",
       "      <th>TotalPctDiv</th>\n",
       "      <th>PctLargHouseFam</th>\n",
       "      <th>pctUrban</th>\n",
       "      <th>PctHousOccup</th>\n",
       "    </tr>\n",
       "  </thead>\n",
       "  <tbody>\n",
       "    <tr>\n",
       "      <th>0</th>\n",
       "      <td>11980</td>\n",
       "      <td>3.10</td>\n",
       "      <td>21.44</td>\n",
       "      <td>11.33</td>\n",
       "      <td>79584</td>\n",
       "      <td>1.96</td>\n",
       "      <td>316</td>\n",
       "      <td>4.47</td>\n",
       "      <td>4.81</td>\n",
       "      <td>100.00</td>\n",
       "      <td>98.37</td>\n",
       "    </tr>\n",
       "    <tr>\n",
       "      <th>1</th>\n",
       "      <td>23123</td>\n",
       "      <td>2.82</td>\n",
       "      <td>21.30</td>\n",
       "      <td>17.18</td>\n",
       "      <td>55323</td>\n",
       "      <td>3.98</td>\n",
       "      <td>205</td>\n",
       "      <td>5.42</td>\n",
       "      <td>4.25</td>\n",
       "      <td>100.00</td>\n",
       "      <td>97.15</td>\n",
       "    </tr>\n",
       "    <tr>\n",
       "      <th>2</th>\n",
       "      <td>29344</td>\n",
       "      <td>2.43</td>\n",
       "      <td>25.88</td>\n",
       "      <td>10.28</td>\n",
       "      <td>42112</td>\n",
       "      <td>4.75</td>\n",
       "      <td>150</td>\n",
       "      <td>12.55</td>\n",
       "      <td>2.97</td>\n",
       "      <td>100.00</td>\n",
       "      <td>95.68</td>\n",
       "    </tr>\n",
       "    <tr>\n",
       "      <th>3</th>\n",
       "      <td>16656</td>\n",
       "      <td>2.40</td>\n",
       "      <td>25.20</td>\n",
       "      <td>17.57</td>\n",
       "      <td>26501</td>\n",
       "      <td>17.23</td>\n",
       "      <td>114</td>\n",
       "      <td>12.91</td>\n",
       "      <td>3.93</td>\n",
       "      <td>0.00</td>\n",
       "      <td>91.19</td>\n",
       "    </tr>\n",
       "    <tr>\n",
       "      <th>4</th>\n",
       "      <td>11245</td>\n",
       "      <td>2.76</td>\n",
       "      <td>40.53</td>\n",
       "      <td>12.65</td>\n",
       "      <td>24018</td>\n",
       "      <td>29.99</td>\n",
       "      <td>160</td>\n",
       "      <td>9.73</td>\n",
       "      <td>5.23</td>\n",
       "      <td>0.00</td>\n",
       "      <td>92.45</td>\n",
       "    </tr>\n",
       "    <tr>\n",
       "      <th>...</th>\n",
       "      <td>...</td>\n",
       "      <td>...</td>\n",
       "      <td>...</td>\n",
       "      <td>...</td>\n",
       "      <td>...</td>\n",
       "      <td>...</td>\n",
       "      <td>...</td>\n",
       "      <td>...</td>\n",
       "      <td>...</td>\n",
       "      <td>...</td>\n",
       "      <td>...</td>\n",
       "    </tr>\n",
       "    <tr>\n",
       "      <th>2210</th>\n",
       "      <td>56216</td>\n",
       "      <td>3.07</td>\n",
       "      <td>30.16</td>\n",
       "      <td>8.08</td>\n",
       "      <td>27388</td>\n",
       "      <td>25.06</td>\n",
       "      <td>157</td>\n",
       "      <td>13.34</td>\n",
       "      <td>13.49</td>\n",
       "      <td>100.00</td>\n",
       "      <td>96.40</td>\n",
       "    </tr>\n",
       "    <tr>\n",
       "      <th>2211</th>\n",
       "      <td>12251</td>\n",
       "      <td>2.68</td>\n",
       "      <td>31.23</td>\n",
       "      <td>12.57</td>\n",
       "      <td>25000</td>\n",
       "      <td>20.79</td>\n",
       "      <td>121</td>\n",
       "      <td>13.77</td>\n",
       "      <td>5.03</td>\n",
       "      <td>100.00</td>\n",
       "      <td>89.72</td>\n",
       "    </tr>\n",
       "    <tr>\n",
       "      <th>2212</th>\n",
       "      <td>32824</td>\n",
       "      <td>2.46</td>\n",
       "      <td>20.96</td>\n",
       "      <td>20.73</td>\n",
       "      <td>34973</td>\n",
       "      <td>7.56</td>\n",
       "      <td>204</td>\n",
       "      <td>11.23</td>\n",
       "      <td>5.10</td>\n",
       "      <td>100.00</td>\n",
       "      <td>93.30</td>\n",
       "    </tr>\n",
       "    <tr>\n",
       "      <th>2213</th>\n",
       "      <td>13547</td>\n",
       "      <td>2.89</td>\n",
       "      <td>30.01</td>\n",
       "      <td>10.42</td>\n",
       "      <td>22103</td>\n",
       "      <td>30.32</td>\n",
       "      <td>182</td>\n",
       "      <td>12.48</td>\n",
       "      <td>9.83</td>\n",
       "      <td>0.00</td>\n",
       "      <td>85.39</td>\n",
       "    </tr>\n",
       "    <tr>\n",
       "      <th>2214</th>\n",
       "      <td>28898</td>\n",
       "      <td>2.61</td>\n",
       "      <td>25.21</td>\n",
       "      <td>12.12</td>\n",
       "      <td>27897</td>\n",
       "      <td>18.50</td>\n",
       "      <td>177</td>\n",
       "      <td>17.31</td>\n",
       "      <td>8.58</td>\n",
       "      <td>99.19</td>\n",
       "      <td>94.85</td>\n",
       "    </tr>\n",
       "  </tbody>\n",
       "</table>\n",
       "<p>2215 rows × 11 columns</p>\n",
       "</div>"
      ],
      "text/plain": [
       "      population  householdsize  agePct12t29  agePct65up  medFamInc  \\\n",
       "0          11980           3.10        21.44       11.33      79584   \n",
       "1          23123           2.82        21.30       17.18      55323   \n",
       "2          29344           2.43        25.88       10.28      42112   \n",
       "3          16656           2.40        25.20       17.57      26501   \n",
       "4          11245           2.76        40.53       12.65      24018   \n",
       "...          ...            ...          ...         ...        ...   \n",
       "2210       56216           3.07        30.16        8.08      27388   \n",
       "2211       12251           2.68        31.23       12.57      25000   \n",
       "2212       32824           2.46        20.96       20.73      34973   \n",
       "2213       13547           2.89        30.01       10.42      22103   \n",
       "2214       28898           2.61        25.21       12.12      27897   \n",
       "\n",
       "      PctPopUnderPov  MedRentPctHousInc  TotalPctDiv  PctLargHouseFam  \\\n",
       "0               1.96                316         4.47             4.81   \n",
       "1               3.98                205         5.42             4.25   \n",
       "2               4.75                150        12.55             2.97   \n",
       "3              17.23                114        12.91             3.93   \n",
       "4              29.99                160         9.73             5.23   \n",
       "...              ...                ...          ...              ...   \n",
       "2210           25.06                157        13.34            13.49   \n",
       "2211           20.79                121        13.77             5.03   \n",
       "2212            7.56                204        11.23             5.10   \n",
       "2213           30.32                182        12.48             9.83   \n",
       "2214           18.50                177        17.31             8.58   \n",
       "\n",
       "      pctUrban  PctHousOccup  \n",
       "0       100.00         98.37  \n",
       "1       100.00         97.15  \n",
       "2       100.00         95.68  \n",
       "3         0.00         91.19  \n",
       "4         0.00         92.45  \n",
       "...        ...           ...  \n",
       "2210    100.00         96.40  \n",
       "2211    100.00         89.72  \n",
       "2212    100.00         93.30  \n",
       "2213      0.00         85.39  \n",
       "2214     99.19         94.85  \n",
       "\n",
       "[2215 rows x 11 columns]"
      ]
     },
     "execution_count": 1,
     "metadata": {},
     "output_type": "execute_result"
    }
   ],
   "source": [
    "import skfuzzy as fuzz\n",
    "import pandas as pd\n",
    "\n",
    "data = pd.read_csv('./communities_processed.csv')\n",
    "\n",
    "data = data.drop('ViolentCrimesPerPop', axis = 1)\n",
    "data"
   ]
  },
  {
   "cell_type": "code",
   "execution_count": null,
   "metadata": {},
   "outputs": [],
   "source": []
  },
  {
   "cell_type": "markdown",
   "metadata": {},
   "source": [
    "`skfuzzy.cmeans()` provides the following interface:\n",
    "\n",
    "```\n",
    "Parameters\n",
    "    ----------\n",
    "    data : 2d array, size (S, N)\n",
    "        Data to be clustered.  N is the number of data sets; S is the number\n",
    "        of features within each sample vector.\n",
    "    c : int\n",
    "        Desired number of clusters or classes.\n",
    "    m : float\n",
    "        Array exponentiation applied to the membership function u_old at each\n",
    "        iteration, where U_new = u_old ** m.\n",
    "    error : float\n",
    "        Stopping criterion; stop early if the norm of (u[p] - u[p-1]) < error.\n",
    "    maxiter : int\n",
    "        Maximum number of iterations allowed.\n",
    "    init : 2d array, size (S, N)\n",
    "        Initial fuzzy c-partitioned matrix. If none provided, algorithm is\n",
    "        randomly initialized.\n",
    "    seed : int\n",
    "        If provided, sets random seed of init. No effect if init is\n",
    "        provided. Mainly for debug/testing purposes.\n",
    "\n",
    "    Returns\n",
    "    -------\n",
    "    cntr : 2d array, size (S, c)\n",
    "        Cluster centers.  Data for each center along each feature provided\n",
    "        for every cluster (of the `c` requested clusters).\n",
    "    u : 2d array, (S, N)\n",
    "        Final fuzzy c-partitioned matrix.\n",
    "    u0 : 2d array, (S, N)\n",
    "        Initial guess at fuzzy c-partitioned matrix (either provided init or\n",
    "        random guess used if init was not provided).\n",
    "    d : 2d array, (S, N)\n",
    "        Final Euclidian distance matrix.\n",
    "    jm : 1d array, length P\n",
    "        Objective function history.\n",
    "    p : int\n",
    "        Number of iterations run.\n",
    "    fpc : float\n",
    "        Final fuzzy partition coefficient.\n",
    "\n",
    "```"
   ]
  },
  {
   "cell_type": "markdown",
   "metadata": {},
   "source": [
    "We evaluated the hyperparameter `c` defining the number of desired clusters on a range from `c_min` = 2, 3, 4 ... to `c_max` = 22. The `c_max` parameter stems from the fact that we have 2215 datapoints in total and assume that meaningful clusters for our dataset of communitites should at least have size 10 to keep them interpretable.\n",
    "\n",
    "According to Ross et al. [1] p. 354 and our classes so far research has not concluded on a theoretical optimum for parameter `m`. However, setting `m` to a value between 1.25 - 2, and especially setting `m` to 2 seems to provide good results. \n",
    "For our project we chose to set `m` to 2.\n",
    "\n",
    "The `error` parameter sets the threshold for the stopping criterion by convergence. If the difference between the clustering criterion between to iterations sinks below the specified threshold, calculations are stopped. We followed the example from Ross et al. and set the error to `0.01`.\n",
    "\n",
    "The `maxiter` parameter defines the second stopping criterion by number of iterations. If no convergence of the error could be reached, the calculation stopps after the set maximum number of iterations. As we preferred to reach a solution with a convergence stopping criterion we set the `maxiter` parameter to the high value of 100. \n",
    "#TODO: Track how many iterations it actually took.\n",
    "\n",
    "As the implementation already starts with random seeds if no `init` matrix is specified we did not have to specifiy random seeds on our own."
   ]
  },
  {
   "cell_type": "markdown",
   "metadata": {},
   "source": [
    "As first tests with different `c` parameters set to 2, 4, 10 and 20, showed that for all `c` the variation within the objective function convergence value was quite big, we decided to run the simulation 1000 times for each `c` to us the law of big numbers to obtain better results."
   ]
  },
  {
   "cell_type": "code",
   "execution_count": null,
   "metadata": {},
   "outputs": [],
   "source": [
    "import plotly.graph_objects as go\n",
    "from plotly.subplots import make_subplots\n",
    "import math\n",
    "\n",
    "import itertools\n",
    "\n",
    "def plot_distributions(df, n_plots, n_cols):\n",
    "    n_rows = math.ceil(n_plots / n_cols)\n",
    "    subplot_indices = list(itertools.product(range(1, n_rows + 1), range(1, n_cols + 1)))\n",
    "\n",
    "    fig = make_subplots(rows=n_rows, cols=n_cols, start_cell=\"top-left\")\n",
    "\n",
    "    for index, feature in zip(range(0, n_plots), df):\n",
    "        fig.add_trace(go.Histogram(x = df[feature],  name=feature), row = subplot_indices[index][0], col= subplot_indices[index][1])\n",
    "        \n",
    "    fig.show()\n"
   ]
  },
  {
   "cell_type": "code",
   "execution_count": 2,
   "metadata": {},
   "outputs": [],
   "source": [
    "from collections import defaultdict\n",
    "\n",
    "def calc_fuzzy_c_means(data, c_params, initial_prototypes=None):\n",
    "    objective_function_data = defaultdict(list)\n",
    "    \n",
    "    m = 2\n",
    "    error = 0.01\n",
    "    maxiter = 100\n",
    "    runs = 100\n",
    "\n",
    "    objective_function_index = 4\n",
    "\n",
    "    for c in c_params:\n",
    "        for i in range(1, runs + 1):\n",
    "            c_means_result = fuzz.cmeans(data, c, m, error, maxiter, init=initial_prototypes)\n",
    "            # append the last objective function value / the value where the function converged\n",
    "            objective_function_data[c].append(c_means_result[objective_function_index][-1])\n",
    "    return pd.DataFrame(objective_function_data)\n",
    "\n",
    "def calc_fuzzy_c_means_anom(data, c_param, initial_prototypes=None):\n",
    "    results = []\n",
    "    m = 2\n",
    "    error = 0.001\n",
    "    maxiter = 100\n",
    "    runs = 1000\n",
    "    \n",
    "    res = fuzz.cmeans(data, c_param, m, error, maxiter, init=initial_prototypes)\n",
    "    return res    "
   ]
  },
  {
   "cell_type": "code",
   "execution_count": null,
   "metadata": {},
   "outputs": [],
   "source": [
    "c_params = [2, 3, 4, 5]\n",
    "objective_function_data_unnormalized = calc_fuzzy_c_means(data, c_params, None)"
   ]
  },
  {
   "cell_type": "code",
   "execution_count": null,
   "metadata": {},
   "outputs": [],
   "source": [
    "print(objective_function_data_unnormalized)\n",
    "print(objective_function_data_unnormalized.std())"
   ]
  },
  {
   "cell_type": "code",
   "execution_count": null,
   "metadata": {},
   "outputs": [],
   "source": [
    "print(objective_function_data_unnormalized.min())\n",
    "print(objective_function_data_unnormalized.max())"
   ]
  },
  {
   "cell_type": "code",
   "execution_count": null,
   "metadata": {},
   "outputs": [],
   "source": [
    "plot_distributions(objective_function_data_unnormalized, len(c_params), 3)"
   ]
  },
  {
   "cell_type": "markdown",
   "metadata": {},
   "source": [
    "Apparently there is a huge variation for the convergence value of the objective value for all investigated `c` values if the data is not normalized."
   ]
  },
  {
   "cell_type": "code",
   "execution_count": 3,
   "metadata": {},
   "outputs": [],
   "source": [
    "# range normalization because we cannot make normal distribution assumption\n",
    "data_norm = (data - data.min()) / (data.max() - data.min())"
   ]
  },
  {
   "cell_type": "code",
   "execution_count": null,
   "metadata": {},
   "outputs": [],
   "source": [
    "objective_function_data_normalized = calc_fuzzy_c_means(data_norm, c_params)"
   ]
  },
  {
   "cell_type": "code",
   "execution_count": null,
   "metadata": {},
   "outputs": [],
   "source": [
    "plot_distributions(objective_function_data_normalized, len(c_params), 3)"
   ]
  },
  {
   "cell_type": "markdown",
   "metadata": {},
   "source": [
    "But while normalized data performed much better (as is logical for c fuzzy means because of the otherwise differing variations and therefore differing impacts), still no real convergences to identical values observable anywhere. Perhaps best for `c` == 3 where we only have a few weird outliers close to 0. "
   ]
  },
  {
   "cell_type": "code",
   "execution_count": null,
   "metadata": {},
   "outputs": [],
   "source": [
    "objective_function_data_normalized.mean()"
   ]
  },
  {
   "cell_type": "code",
   "execution_count": null,
   "metadata": {},
   "outputs": [],
   "source": [
    "import plotly.express as px\n",
    "fig = px.scatter(x = c_params, y = objective_function_data_normalized.mean())\n",
    "fig.show()"
   ]
  },
  {
   "cell_type": "code",
   "execution_count": null,
   "metadata": {},
   "outputs": [],
   "source": [
    "fig = px.scatter(x = c_params, y = objective_function_data_normalized.std())\n",
    "fig.show()"
   ]
  },
  {
   "cell_type": "markdown",
   "metadata": {},
   "source": [
    "`HK=(WK/WK+1 −1)(N−K−1)` should we evaluate Hartigans index?\n",
    "\n",
    "- Visualize on the Principial Component Plane"
   ]
  },
  {
   "cell_type": "markdown",
   "metadata": {},
   "source": [
    "> b) Study the (Iterative) Anomalous Pattern (IAP) clustering algorithm. Test the implementation with the benchmark data sets provided to you.\n",
    "\n",
    "IAP clustering algorithm is an approach used to deal with the main challenges of the K-Means algorithm: specifiying the number of clusters and starting centroids a priori."
   ]
  },
  {
   "cell_type": "code",
   "execution_count": 5,
   "metadata": {},
   "outputs": [
    {
     "name": "stderr",
     "output_type": "stream",
     "text": [
      "/home/moritz/Uni/Portugal/PAD/pad_python/analyses/anomalous_adapted.py:180: VisibleDeprecationWarning: Creating an ndarray from ragged nested sequences (which is a list-or-tuple of lists-or-tuples-or ndarrays with different lengths or shapes) is deprecated. If you meant to do this, you must specify 'dtype=object' when creating the ndarray.\n",
      "  ancl = np.asarray(ancl)\n",
      "/home/moritz/Uni/Portugal/PAD/pad_python/analyses/anomalous_adapted.py:180: VisibleDeprecationWarning: Creating an ndarray from ragged nested sequences (which is a list-or-tuple of lists-or-tuples-or ndarrays with different lengths or shapes) is deprecated. If you meant to do this, you must specify 'dtype=object' when creating the ndarray.\n",
      "  ancl = np.asarray(ancl)\n"
     ]
    }
   ],
   "source": [
    "import pandas as pd\n",
    "import numpy as np\n",
    "from anomalous_adapted import anomPattern #code provided by professor\n",
    "\n",
    "\n",
    "town_dataframe = pd.read_fwf('./tons.dat', names = ['POP_RES', 'PSchools', 'Doctors', 'Hospitals', 'Banks', 'Superstores', 'Petrol', 'DIY', 'Swimming', 'PostOffice', 'CABs', 'FarmMarket']) \n",
    "res = anomPattern(normalization=0,threshold=2,dataframe=town_dataframe)"
   ]
  },
  {
   "cell_type": "markdown",
   "metadata": {},
   "source": [
    "> c) Take the Anomalous Clustering as the initialization algorithm to the fuzzy c-means and apply the Anomalous Patterns_FCM to your data set. Discuss the option taken for setting its stop condition. Present and visualize the found fuzzy partitions of AP-FCM taking advantage of the PCA visualization (check PCA tutorial)."
   ]
  },
  {
   "cell_type": "code",
   "execution_count": null,
   "metadata": {},
   "outputs": [],
   "source": []
  },
  {
   "cell_type": "code",
   "execution_count": 19,
   "metadata": {},
   "outputs": [
    {
     "name": "stderr",
     "output_type": "stream",
     "text": [
      "/home/moritz/Uni/Portugal/PAD/pad_python/analyses/anomalous_adapted.py:180: VisibleDeprecationWarning: Creating an ndarray from ragged nested sequences (which is a list-or-tuple of lists-or-tuples-or ndarrays with different lengths or shapes) is deprecated. If you meant to do this, you must specify 'dtype=object' when creating the ndarray.\n",
      "  ancl = np.asarray(ancl)\n"
     ]
    },
    {
     "data": {
      "image/png": "[encoded data removed]",
      "text/plain": [
       "<Figure size 720x720 with 1 Axes>"
      ]
     },
     "metadata": {
      "needs_background": "light"
     },
     "output_type": "display_data"
    }
   ],
   "source": [
    "#TODO: plot cluster result for multiple threshold, plus benchmarks as quantitative \n",
    "\n",
    "from sklearn.decomposition import PCA\n",
    "import matplotlib.pyplot as plt\n",
    "import seaborn as sns\n",
    "\n",
    "def apply_AP_FCM(threshold, data):\n",
    "    #apply anomalous pattern algorithm to find start configuration\n",
    "    anom_res = anomPattern(normalization=0, threshold=threshold, dataframe=data)\n",
    "    #apply fuzzy-c-means\n",
    "    return calc_fuzzy_c_means_anom(data.transpose(), anom_res[0], anom_res[2].transpose())\n",
    "\n",
    "def apply_PCA(n_comp, data):\n",
    "    principal=PCA(n_components=2)\n",
    "    principal.fit(data)\n",
    "    x = principal.transform(data)\n",
    "    return x\n",
    "\n",
    "#gm = [np.mean(principalDf[0]), np.mean(principalDf[1])]\n",
    "\n",
    "res_50 = apply_AP_FCM(50, data_norm)\n",
    "\n",
    "#perform PCA on result\n",
    "pca_res = apply_PCA(2, data_norm)\n",
    "\n",
    "#perform PCA on cluster centers\n",
    "pca_cc = apply_PCA(2, res_50[0])\n",
    "\n",
    "fig = plt.figure(figsize=(10,10))\n",
    "axis = fig.add_subplot(111)\n",
    "#x[:,0]is pc1,x[:,1] is pc2 while x[:,2] is pc3\n",
    "axis.scatter(pca_res[:, 0], pca_res[:, 1], cmap='crest')\n",
    "axis.scatter(pca_cc[:, 0], pca_cc[:, 1], c='red', cmap='hot')\n",
    "\n",
    "axis.set_xlabel(\"PC1\", fontsize=10)\n",
    "axis.set_ylabel(\"PC2\", fontsize=10)\n",
    "\n",
    "plt.show()\n"
   ]
  },
  {
   "cell_type": "markdown",
   "metadata": {},
   "source": [
    "> d) Discuss the results obtained by Anomalous Patterns FCM for your data case respecting the following: (i) location of the initial prototypes; (ii) number of clusters."
   ]
  },
  {
   "cell_type": "markdown",
   "metadata": {},
   "source": [
    "ii) We see that we either have 4 cluster, 3 or 2 depending on the threshold of the AP algorithm. If we choose a threshold higher than 100, we only get 2 clusters lying almost on the same point when projected to two principal components."
   ]
  },
  {
   "cell_type": "markdown",
   "metadata": {},
   "source": [
    "> e) Apply, at least, two validation indices, like the Adjust Rand Index (ARI) and Xie-Beni, to access the quality of the fuzzy c-partitions obtained in a). Compare these results with the one of Anomalous Patterns FCM getting in c)."
   ]
  },
  {
   "cell_type": "code",
   "execution_count": 14,
   "metadata": {},
   "outputs": [
    {
     "name": "stdout",
     "output_type": "stream",
     "text": [
      "Indices for threshold value:  2\n",
      "Amount of Clusters: 5\n",
      "Xie-Beni: 1.0985984646592601\n",
      "PC: 0.3996221652646219\n",
      "Indices for threshold value:  3\n",
      "Amount of Clusters: 5\n",
      "Xie-Beni: 1.0985984646592601\n",
      "PC: 0.3996221652646219\n",
      "Indices for threshold value:  4\n",
      "Amount of Clusters: 4\n",
      "Xie-Beni: 1.4502379856419\n",
      "PC: 0.5283184088462649\n",
      "Indices for threshold value:  5\n",
      "Amount of Clusters: 4\n",
      "Xie-Beni: 1.4502379856419\n",
      "PC: 0.5283184088462649\n",
      "Indices for threshold value:  6\n",
      "Amount of Clusters: 4\n",
      "Xie-Beni: 1.4502379856419\n",
      "PC: 0.5283184088462649\n",
      "Indices for threshold value:  7\n",
      "Amount of Clusters: 4\n",
      "Xie-Beni: 1.4502379856419\n",
      "PC: 0.5283184088462649\n",
      "Indices for threshold value:  8\n",
      "Amount of Clusters: 4\n",
      "Xie-Beni: 1.4502379856419\n",
      "PC: 0.5283184088462649\n",
      "Indices for threshold value:  9\n",
      "Amount of Clusters: 4\n",
      "Xie-Beni: 1.4502379856419\n",
      "PC: 0.5283184088462649\n",
      "Indices for threshold value:  10\n",
      "Amount of Clusters: 4\n",
      "Xie-Beni: 1.4502379856419\n",
      "PC: 0.5283184088462649\n",
      "Indices for threshold value:  20\n",
      "Amount of Clusters: 4\n",
      "Xie-Beni: 1.4502379856419\n",
      "PC: 0.5283184088462649\n",
      "Indices for threshold value:  50\n",
      "Amount of Clusters: 3\n",
      "Xie-Beni: 0.6349344354238232\n",
      "PC: 0.6370746115407683\n",
      "Indices for threshold value:  80\n",
      "Amount of Clusters: 2\n",
      "Xie-Beni: 6.123433276781415e+30\n",
      "PC: 0.5\n",
      "Indices for threshold value:  100\n",
      "Amount of Clusters: 2\n",
      "Xie-Beni: 6.123433276781415e+30\n",
      "PC: 0.5\n"
     ]
    }
   ],
   "source": [
    "import scipy.spatial\n",
    "\n",
    "def pairwise_squared_distances(A, B):\n",
    "    return scipy.spatial.distance.cdist(A, B)**2\n",
    "\n",
    "def xb(x, u, v, m):\n",
    "    n = x.shape[0]\n",
    "    c = v.shape[0]\n",
    "\n",
    "    um = u**m\n",
    "\n",
    "    d2 = pairwise_squared_distances(x, v)\n",
    "    v2 = pairwise_squared_distances(v, v)\n",
    "\n",
    "    v2[v2 == 0.0] = np.inf\n",
    "\n",
    "    return np.sum(um.T*d2)/(n*np.min(v2))\n",
    "\n",
    "def partition_coefficient(u, x):\n",
    "    n = x.shape[0]\n",
    "    return np.sum(u**2 / n)\n",
    "    \n",
    "threshold_values = [2,3,4,5,6,7,8,9,10,20,50,80,100]\n",
    "xb_values = []\n",
    "pc_values = []\n",
    "\n",
    "for threshold in threshold_values:\n",
    "    cluster_res = apply_AP_FCM(threshold, data_norm)\n",
    "    print('Indices for threshold value: ', threshold)\n",
    "    xb_index = xb(data_norm, cluster_res[1], cluster_res[0], 2)\n",
    "    pc_index = partition_coefficient(cluster_res[1], data_norm)\n",
    "    xb_values.append(xb_index)\n",
    "    pc_values.append(pc_values)\n",
    "    print('Amount of Clusters:', len(cluster_res[0]))\n",
    "    print('Xie-Beni:', xb_index)\n",
    "    print('PC:', pc_index)\n"
   ]
  },
  {
   "cell_type": "markdown",
   "metadata": {},
   "source": [
    "In order to examine the amount of clusters in a quantitative way, we calculated the Xie-Beni Index and the Partition Coefficient to clustering results for multiple threshold values. The threshold values have a direct influence on the amount of clusters found by the Anomalous Pattern Algorithm. We see, that the amount of found clusters lie between 2 for low threshold values and 5 for large threshold values. Furthermore, we observe equal index values for the same amount of clusters regardless the threshold. The lowest parition coefficient has been calculated for a c = 5 while we found the lowest Xie-Beni Index value for a cluster size of 3. Interestingly, the Xie-Beni Index value increases extremely if c = 2. We consider partitions with less clusters better, the smaller the differences between the values of a validation index are. As there is a huge difference between c = 2 and c = 3 regarding the Xie-Beni index, we consider the cluster amount of 3 as best. This finding coincides with the one we made in section... where we also argued in favor for an amount of 3 clusters."
   ]
  },
  {
   "cell_type": "markdown",
   "metadata": {},
   "source": [
    "> f) Make interpretation of the found clusters (after defuzzification) for your data, as discussed in the classes."
   ]
  },
  {
   "cell_type": "code",
   "execution_count": 20,
   "metadata": {},
   "outputs": [
    {
     "data": {
      "text/plain": [
       "Text(0, 0.5, 'PC2')"
      ]
     },
     "execution_count": 20,
     "metadata": {},
     "output_type": "execute_result"
    },
    {
     "data": {
      "image/png": "[encoded data removed]",
      "text/plain": [
       "<Figure size 720x720 with 1 Axes>"
      ]
     },
     "metadata": {
      "needs_background": "light"
     },
     "output_type": "display_data"
    }
   ],
   "source": [
    "#Defuzzification\n",
    "cluster_id = []\n",
    "row_index = 0\n",
    "for row in res_50[1].transpose():\n",
    "    cluster_id.append(list(row).index(np.max(row)))\n",
    "\n",
    "principalDf = pd.DataFrame(data = pca_res)\n",
    "principalDf['cluster'] = cluster_id\n",
    "\n",
    "fig = plt.figure(figsize=(10,10))\n",
    "axis = fig.add_subplot(111)\n",
    "#x[:,0]is pc1,x[:,1] is pc2 while x[:,2] is pc3\n",
    "axis.scatter(pca_res[:, 0], pca_res[:, 1], c=principalDf.cluster, cmap='crest')\n",
    "axis.scatter(pca_cc[:, 0], pca_cc[:, 1], c='red', cmap='hot')\n",
    "axis.set_xlabel(\"PC1\", fontsize=10)\n",
    "axis.set_ylabel(\"PC2\", fontsize=10)"
   ]
  },
  {
   "cell_type": "code",
   "execution_count": null,
   "metadata": {},
   "outputs": [],
   "source": []
  }
 ],
 "metadata": {
  "kernelspec": {
   "display_name": "Python 3",
   "language": "python",
   "name": "python3"
  },
  "language_info": {
   "codemirror_mode": {
    "name": "ipython",
    "version": 3
   },
   "file_extension": ".py",
   "mimetype": "text/x-python",
   "name": "python",
   "nbconvert_exporter": "python",
   "pygments_lexer": "ipython3",
   "version": "3.8.10"
  }
 },
 "nbformat": 4,
 "nbformat_minor": 5
}
