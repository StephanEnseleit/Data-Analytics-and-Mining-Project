{
 "cells": [
  {
   "cell_type": "markdown",
   "id": "c409efd8",
   "metadata": {},
   "source": [
    "# Fuzzy Clustering with Anomalous Patterns"
   ]
  },
  {
   "cell_type": "markdown",
   "id": "882a78a4",
   "metadata": {},
   "source": [
    "> a) Study the fuzzy c-means (FCM) program in the software package of your choice1.\n",
    "Apply the program to your dataset at the same hyperparameter c with random seeds.Do this for several different values c= c_min, ..., c_max. Plot the FCM clustering criterion (FCM cost function) in function of c. Analyse the graphic and comment if any number of clusters better fits your data than the others.\n",
    "Hint: If, at a given c, the fuzzy c-means converges to the same result at any initialization, then it is likely that parameter c is correct."
   ]
  },
  {
   "cell_type": "code",
   "execution_count": null,
   "id": "61bd71ff",
   "metadata": {},
   "outputs": [],
   "source": []
  },
  {
   "cell_type": "markdown",
   "id": "bdfcae4d",
   "metadata": {},
   "source": [
    "> b) Study the (Iterative) Anomalous Pattern (IAP) clustering algorithm. Test the implementation with the benchmark data sets provided to you."
   ]
  },
  {
   "cell_type": "code",
   "execution_count": null,
   "id": "4b9140bf",
   "metadata": {},
   "outputs": [],
   "source": []
  },
  {
   "cell_type": "markdown",
   "id": "c215ca48",
   "metadata": {},
   "source": [
    "> c) Take the Anomalous Clustering as the initialization algorithm to the fuzzy c-means and apply the Anomalous Patterns_FCM to your data set. Discuss the option taken for setting its stop condition. Present and visualize the found fuzzy partitions of AP-FCM taking advantage of the PCA visualization (check PCA tutorial)."
   ]
  },
  {
   "cell_type": "code",
   "execution_count": null,
   "id": "ac6c131d",
   "metadata": {},
   "outputs": [],
   "source": []
  },
  {
   "cell_type": "markdown",
   "id": "4142da58",
   "metadata": {},
   "source": [
    "> d) Discuss the results obtained by Anomalous Patterns FCM for your data case respecting the following: (i) location of the initial prototypes; (ii) number of clusters."
   ]
  },
  {
   "cell_type": "code",
   "execution_count": null,
   "id": "40f98f94",
   "metadata": {},
   "outputs": [],
   "source": []
  },
  {
   "cell_type": "markdown",
   "id": "c13ff2a7",
   "metadata": {},
   "source": [
    "> e) Apply, at least, two validation indices, like the Adjust Rand Index (ARI) and Xie-Beni, to access the quality of the fuzzy c-partitions obtained in a). Compare these results with the one of Anomalous Patterns FCM getting in c)."
   ]
  },
  {
   "cell_type": "code",
   "execution_count": null,
   "id": "2f98fa83",
   "metadata": {},
   "outputs": [],
   "source": []
  },
  {
   "cell_type": "markdown",
   "id": "259997da",
   "metadata": {},
   "source": [
    "> f) Make interpretation of the found clusters (after defuzzification) for your data, as discussed in the classes."
   ]
  },
  {
   "cell_type": "code",
   "execution_count": null,
   "id": "0b234649",
   "metadata": {},
   "outputs": [],
   "source": []
  }
 ],
 "metadata": {
  "kernelspec": {
   "display_name": "Python 3 (ipykernel)",
   "language": "python",
   "name": "python3"
  },
  "language_info": {
   "codemirror_mode": {
    "name": "ipython",
    "version": 3
   },
   "file_extension": ".py",
   "mimetype": "text/x-python",
   "name": "python",
   "nbconvert_exporter": "python",
   "pygments_lexer": "ipython3",
   "version": "3.9.7"
  }
 },
 "nbformat": 4,
 "nbformat_minor": 5
}
